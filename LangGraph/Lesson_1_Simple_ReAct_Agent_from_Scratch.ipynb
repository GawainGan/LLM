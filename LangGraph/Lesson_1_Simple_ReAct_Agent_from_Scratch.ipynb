{
  "cells": [
    {
      "cell_type": "markdown",
      "metadata": {
        "id": "view-in-github",
        "colab_type": "text"
      },
      "source": [
        "<a href=\"https://colab.research.google.com/github/GawainGan/LLM/blob/main/LangGraph/Lesson_1_Simple_ReAct_Agent_from_Scratch.ipynb\" target=\"_parent\"><img src=\"https://colab.research.google.com/assets/colab-badge.svg\" alt=\"Open In Colab\"/></a>"
      ]
    },
    {
      "cell_type": "markdown",
      "id": "9690ac72-5d95-4cbf-875a-ae0e835593c9",
      "metadata": {
        "id": "9690ac72-5d95-4cbf-875a-ae0e835593c9"
      },
      "source": [
        "# Lesson 1: Simple ReAct Agent from Scratch"
      ]
    },
    {
      "cell_type": "code",
      "execution_count": null,
      "id": "83588e70-254f-4f83-a510-c8ae81e729b0",
      "metadata": {
        "height": 30,
        "id": "83588e70-254f-4f83-a510-c8ae81e729b0"
      },
      "outputs": [],
      "source": [
        "# based on https://til.simonwillison.net/llms/python-react-pattern"
      ]
    },
    {
      "cell_type": "code",
      "execution_count": null,
      "id": "6cb3ef4c-58b3-401b-b104-0d51e553d982",
      "metadata": {
        "height": 149,
        "id": "6cb3ef4c-58b3-401b-b104-0d51e553d982"
      },
      "outputs": [],
      "source": [
        "import openai\n",
        "import re\n",
        "import httpx\n",
        "import os\n",
        "from dotenv import load_dotenv\n",
        "\n",
        "_ = load_dotenv()\n",
        "from openai import OpenAI"
      ]
    },
    {
      "cell_type": "code",
      "execution_count": null,
      "id": "dc3293b7-a50c-43c8-a022-8975e1e444b8",
      "metadata": {
        "height": 30,
        "id": "dc3293b7-a50c-43c8-a022-8975e1e444b8"
      },
      "outputs": [],
      "source": [
        "client = OpenAI()"
      ]
    },
    {
      "cell_type": "code",
      "execution_count": null,
      "id": "0722c3d4-4cbf-43bf-81b0-50f634c4ce61",
      "metadata": {
        "height": 81,
        "id": "0722c3d4-4cbf-43bf-81b0-50f634c4ce61"
      },
      "outputs": [],
      "source": [
        "chat_completion = client.chat.completions.create(\n",
        "    model=\"gpt-3.5-turbo\",\n",
        "    messages=[{\"role\": \"user\", \"content\": \"Hello world\"}]\n",
        ")"
      ]
    },
    {
      "cell_type": "code",
      "execution_count": null,
      "id": "6b2f82fe-3ec4-4917-be51-9fb10d1317fa",
      "metadata": {
        "height": 30,
        "id": "6b2f82fe-3ec4-4917-be51-9fb10d1317fa",
        "outputId": "d6d8027d-0207-444c-a3a7-1ea0d557d975"
      },
      "outputs": [
        {
          "data": {
            "text/plain": [
              "'Hello! How can I assist you today?'"
            ]
          },
          "execution_count": 4,
          "metadata": {},
          "output_type": "execute_result"
        }
      ],
      "source": [
        "chat_completion.choices[0].message.content"
      ]
    },
    {
      "cell_type": "code",
      "execution_count": null,
      "id": "ee0fe1c7-77e2-499c-a2f9-1f739bb6ddf0",
      "metadata": {
        "height": 387,
        "id": "ee0fe1c7-77e2-499c-a2f9-1f739bb6ddf0"
      },
      "outputs": [],
      "source": [
        "class Agent:\n",
        "    def __init__(self, system=\"\"):\n",
        "      '接收一个可选的系统消息并初始化消息列表'\n",
        "        self.system = system\n",
        "        self.messages = []\n",
        "        if self.system:\n",
        "            self.messages.append({\"role\": \"system\", \"content\": system})\n",
        "\n",
        "    def __call__(self, message):\n",
        "      '使得 Agent 实例可以像函数一样被调用，接收一个消息，执行聊天逻辑，并返回回复'\n",
        "        self.messages.append({\"role\": \"user\", \"content\": message})\n",
        "        result = self.execute()\n",
        "        self.messages.append({\"role\": \"assistant\", \"content\": result})\n",
        "        return result\n",
        "\n",
        "    def execute(self):\n",
        "      '辅助函数，用于实际调用 OpenAI API 并获取模型的回复'\n",
        "        completion = client.chat.completions.create(\n",
        "                        model=\"gpt-4o\",\n",
        "                        temperature=0,\n",
        "                        messages=self.messages)\n",
        "        return completion.choices[0].message.content\n"
      ]
    },
    {
      "cell_type": "markdown",
      "source": [
        "初始化提示和定义函数：\n",
        "- prompt：提供了一个说明性的多行字符串，解释了聊天机器人的工作方式，包括思考（Thought）、行动（Action）、暂停（PAUSE）和观察（Observation）的循环过程。\n",
        "- calculate 函数：执行一个数学计算并返回结果。\n",
        "- average_dog_weight 函数：根据给定的狗的品种返回平均体重。该函数支持三种狗的品种，并对未知品种给出默认的平均体重。"
      ],
      "metadata": {
        "id": "4Ox7Yl_k2uJk"
      },
      "id": "4Ox7Yl_k2uJk"
    },
    {
      "cell_type": "code",
      "execution_count": null,
      "id": "98f303b1-a4d0-408c-8cc0-515ff980717f",
      "metadata": {
        "height": 557,
        "id": "98f303b1-a4d0-408c-8cc0-515ff980717f"
      },
      "outputs": [],
      "source": [
        "prompt = \"\"\"\n",
        "You run in a loop of Thought, Action, PAUSE, Observation.\n",
        "At the end of the loop you output an Answer\n",
        "Use Thought to describe your thoughts about the question you have been asked.\n",
        "Use Action to run one of the actions available to you - then return PAUSE.\n",
        "Observation will be the result of running those actions.\n",
        "\n",
        "Your available actions are:\n",
        "\n",
        "calculate:\n",
        "e.g. calculate: 4 * 7 / 3\n",
        "Runs a calculation and returns the number - uses Python so be sure to use floating point syntax if necessary\n",
        "\n",
        "average_dog_weight:\n",
        "e.g. average_dog_weight: Collie\n",
        "returns average weight of a dog when given the breed\n",
        "\n",
        "Example session:\n",
        "\n",
        "Question: How much does a Bulldog weigh?\n",
        "Thought: I should look the dogs weight using average_dog_weight\n",
        "Action: average_dog_weight: Bulldog\n",
        "PAUSE\n",
        "\n",
        "You will be called again with this:\n",
        "\n",
        "Observation: A Bulldog weights 51 lbs\n",
        "\n",
        "You then output:\n",
        "\n",
        "Answer: A bulldog weights 51 lbs\n",
        "\"\"\".strip()"
      ]
    },
    {
      "cell_type": "code",
      "execution_count": null,
      "id": "bf4dcb93-6298-4cfd-b3ce-61dfac7fb35f",
      "metadata": {
        "height": 302,
        "id": "bf4dcb93-6298-4cfd-b3ce-61dfac7fb35f"
      },
      "outputs": [],
      "source": [
        "def calculate(what):\n",
        "    return eval(what)\n",
        "\n",
        "def average_dog_weight(name):\n",
        "    if name in \"Scottish Terrier\":\n",
        "        return(\"Scottish Terriers average 20 lbs\")\n",
        "    elif name in \"Border Collie\":\n",
        "        return(\"a Border Collies average weight is 37 lbs\")\n",
        "    elif name in \"Toy Poodle\":\n",
        "        return(\"a toy poodles average weight is 7 lbs\")\n",
        "    else:\n",
        "        return(\"An average dog weights 50 lbs\")\n",
        "\n",
        "known_actions = {\n",
        "    \"calculate\": calculate,\n",
        "    \"average_dog_weight\": average_dog_weight\n",
        "}"
      ]
    },
    {
      "cell_type": "markdown",
      "source": [
        "## Agent 1"
      ],
      "metadata": {
        "id": "8zteli9W5TtI"
      },
      "id": "8zteli9W5TtI"
    },
    {
      "cell_type": "markdown",
      "source": [
        "### Prompt 1"
      ],
      "metadata": {
        "id": "LlAa9-Qa3UTl"
      },
      "id": "LlAa9-Qa3UTl"
    },
    {
      "cell_type": "code",
      "execution_count": null,
      "id": "932883a4-c722-42bb-aec0-b4f41c5c81a4",
      "metadata": {
        "height": 30,
        "id": "932883a4-c722-42bb-aec0-b4f41c5c81a4"
      },
      "outputs": [],
      "source": [
        "abot = Agent(prompt) # 创建了一个 Agent 类的实例，使用先前定义的 prompt 作为初始化输入"
      ]
    },
    {
      "cell_type": "code",
      "execution_count": null,
      "id": "ff362f49-dcf1-4ea1-a86c-e516e9ab897d",
      "metadata": {
        "height": 47,
        "id": "ff362f49-dcf1-4ea1-a86c-e516e9ab897d",
        "outputId": "f43abf85-12d6-4aa9-dd15-a463827617bd"
      },
      "outputs": [
        {
          "name": "stdout",
          "output_type": "stream",
          "text": [
            "Thought: I should look up the average weight of a Toy Poodle using the average_dog_weight action.\n",
            "Action: average_dog_weight: Toy Poodle\n",
            "PAUSE\n"
          ]
        }
      ],
      "source": [
        "result = abot(\"How much does a toy poodle weigh?\") # 调用 abot 实例，并向其发送关于玩具贵宾犬平均体重的查询\n",
        "print(result) # 在第一个查询后，输出了机器人的“思考”和计划采取的“行动”，然后暂停"
      ]
    },
    {
      "cell_type": "code",
      "execution_count": null,
      "id": "a7e15a20-83d7-434c-8551-bce8dcc32be0",
      "metadata": {
        "height": 30,
        "id": "a7e15a20-83d7-434c-8551-bce8dcc32be0"
      },
      "outputs": [],
      "source": [
        "result = average_dog_weight(\"Toy Poodle\") # 直接调用 average_dog_weight 函数以获取玩具贵宾犬的平均体重，并将结果存储在 result 中"
      ]
    },
    {
      "cell_type": "code",
      "execution_count": null,
      "id": "54ab2c74-f32e-490c-a85d-932d11444210",
      "metadata": {
        "height": 30,
        "id": "54ab2c74-f32e-490c-a85d-932d11444210",
        "outputId": "eedee610-a5c3-4dc9-ce38-6d64b6dd3da3"
      },
      "outputs": [
        {
          "data": {
            "text/plain": [
              "'a toy poodles average weight is 7 lbs'"
            ]
          },
          "execution_count": 11,
          "metadata": {},
          "output_type": "execute_result"
        }
      ],
      "source": [
        "result"
      ]
    },
    {
      "cell_type": "markdown",
      "source": [
        "### Prompt 2"
      ],
      "metadata": {
        "id": "ftUh-zno3sjf"
      },
      "id": "ftUh-zno3sjf"
    },
    {
      "cell_type": "code",
      "execution_count": null,
      "id": "a833d3ce-bd31-4319-811d-decff226b970",
      "metadata": {
        "height": 30,
        "id": "a833d3ce-bd31-4319-811d-decff226b970"
      },
      "outputs": [],
      "source": [
        "next_prompt = \"Observation: {}\".format(result) # 生成一个观察阶段的提示，该prompt要包括上一步操作得到的结果"
      ]
    },
    {
      "cell_type": "code",
      "execution_count": null,
      "id": "76e93cce-6eab-4c7c-ac64-e9993fdb30d6",
      "metadata": {
        "height": 30,
        "id": "76e93cce-6eab-4c7c-ac64-e9993fdb30d6",
        "outputId": "5b34b528-c424-4fd9-dad9-0d4bb314565f"
      },
      "outputs": [
        {
          "data": {
            "text/plain": [
              "'Answer: A Toy Poodle weighs an average of 7 lbs.'"
            ]
          },
          "execution_count": 13,
          "metadata": {},
          "output_type": "execute_result"
        }
      ],
      "source": [
        "abot(next_prompt) # 将新的prompt放入创建的Agent中，Agent根据观察结果生成一个答案。这是对用户最初查询的直接相应"
      ]
    },
    {
      "cell_type": "markdown",
      "source": [
        "上面直接生成的result就是Observation的内容，其根据是在Agent初始化的Prompt里就有这个要求：\n",
        "\n",
        "You will be called again with this:\n",
        "\n",
        "Observation: A Bulldog weights 51 lbs\n",
        "\n",
        "You then output:\n",
        "\n",
        "Answer: A bulldog weights 51 lbs"
      ],
      "metadata": {
        "id": "xwk0pWZC4jix"
      },
      "id": "xwk0pWZC4jix"
    },
    {
      "cell_type": "code",
      "execution_count": null,
      "id": "fd2d0990-a932-423f-9ff3-5cada58c5f32",
      "metadata": {
        "height": 30,
        "id": "fd2d0990-a932-423f-9ff3-5cada58c5f32",
        "outputId": "0ad1fa9a-8808-4bc7-ba06-3b0e9f634209"
      },
      "outputs": [
        {
          "data": {
            "text/plain": [
              "[{'role': 'system',\n",
              "  'content': 'You run in a loop of Thought, Action, PAUSE, Observation.\\nAt the end of the loop you output an Answer\\nUse Thought to describe your thoughts about the question you have been asked.\\nUse Action to run one of the actions available to you - then return PAUSE.\\nObservation will be the result of running those actions.\\n\\nYour available actions are:\\n\\ncalculate:\\ne.g. calculate: 4 * 7 / 3\\nRuns a calculation and returns the number - uses Python so be sure to use floating point syntax if necessary\\n\\naverage_dog_weight:\\ne.g. average_dog_weight: Collie\\nreturns average weight of a dog when given the breed\\n\\nExample session:\\n\\nQuestion: How much does a Bulldog weigh?\\nThought: I should look the dogs weight using average_dog_weight\\nAction: average_dog_weight: Bulldog\\nPAUSE\\n\\nYou will be called again with this:\\n\\nObservation: A Bulldog weights 51 lbs\\n\\nYou then output:\\n\\nAnswer: A bulldog weights 51 lbs'},\n",
              " {'role': 'user', 'content': 'How much does a toy poodle weigh?'},\n",
              " {'role': 'assistant',\n",
              "  'content': 'Thought: I should look up the average weight of a Toy Poodle using the average_dog_weight action.\\nAction: average_dog_weight: Toy Poodle\\nPAUSE'},\n",
              " {'role': 'user',\n",
              "  'content': 'Observation: a toy poodles average weight is 7 lbs'},\n",
              " {'role': 'assistant',\n",
              "  'content': 'Answer: A Toy Poodle weighs an average of 7 lbs.'}]"
            ]
          },
          "execution_count": 14,
          "metadata": {},
          "output_type": "execute_result"
        }
      ],
      "source": [
        "abot.messages"
      ]
    },
    {
      "cell_type": "markdown",
      "source": [
        "在上面创建Agent的 __init__ & __call__ 中，self.message是会自动存储在array中的：\n",
        "\n",
        "    class Agent:\n",
        "        def __init__(self, system=\"\"):\n",
        "          '接收一个可选的系统消息并初始化消息列表'\n",
        "            self.system = system\n",
        "            self.messages = []\n",
        "            if self.system:\n",
        "                self.messages.append({\"role\": \"system\", \"content\": system})\n",
        "\n",
        "        def __call__(self, message):\n",
        "          '使得 Agent 实例可以像函数一样被调用，接收一个消息，执行聊天逻辑，并返回回复'\n",
        "            self.messages.append({\"role\": \"user\", \"content\": message})\n",
        "            result = self.execute()\n",
        "            self.messages.append({\"role\": \"assistant\", \"content\": result})\n",
        "            return result"
      ],
      "metadata": {
        "id": "dsb7q7AS43Nr"
      },
      "id": "dsb7q7AS43Nr"
    },
    {
      "cell_type": "markdown",
      "source": [
        "## Agent 2"
      ],
      "metadata": {
        "id": "F4aev3_i5Qj1"
      },
      "id": "F4aev3_i5Qj1"
    },
    {
      "cell_type": "markdown",
      "source": [
        "### Prompt 1"
      ],
      "metadata": {
        "id": "nhSMwns35WRt"
      },
      "id": "nhSMwns35WRt"
    },
    {
      "cell_type": "code",
      "execution_count": null,
      "id": "27cde654-64e2-48bc-80a9-0ed668ccb7dc",
      "metadata": {
        "height": 30,
        "id": "27cde654-64e2-48bc-80a9-0ed668ccb7dc"
      },
      "outputs": [],
      "source": [
        "abot = Agent(prompt)"
      ]
    },
    {
      "cell_type": "code",
      "execution_count": null,
      "id": "4871f644-b131-4065-b7ce-b82c20a41f11",
      "metadata": {
        "height": 64,
        "id": "4871f644-b131-4065-b7ce-b82c20a41f11",
        "outputId": "ac8d16d8-0376-4f7b-88a0-5cc5b1ce50ac"
      },
      "outputs": [
        {
          "data": {
            "text/plain": [
              "'Thought: I need to find the average weight of both a Border Collie and a Scottish Terrier, then sum these weights to get the combined weight of the two dogs.\\nAction: average_dog_weight: Border Collie\\nPAUSE'"
            ]
          },
          "execution_count": 16,
          "metadata": {},
          "output_type": "execute_result"
        }
      ],
      "source": [
        "question = \"\"\"I have 2 dogs, a border collie and a scottish terrier. \\\n",
        "What is their combined weight\"\"\"\n",
        "abot(question)"
      ]
    },
    {
      "cell_type": "code",
      "execution_count": null,
      "id": "8c3d8070-3f36-4cf0-a677-508e54359c8f",
      "metadata": {
        "height": 47,
        "id": "8c3d8070-3f36-4cf0-a677-508e54359c8f",
        "outputId": "67d02258-a966-47a6-8a32-1f3c65b6d949"
      },
      "outputs": [
        {
          "name": "stdout",
          "output_type": "stream",
          "text": [
            "Observation: a Border Collies average weight is 37 lbs\n"
          ]
        }
      ],
      "source": [
        "next_prompt = \"Observation: {}\".format(average_dog_weight(\"Border Collie\"))\n",
        "print(next_prompt)"
      ]
    },
    {
      "cell_type": "code",
      "execution_count": null,
      "id": "98f3be1d-cc4c-41fa-9863-3e386e88e305",
      "metadata": {
        "height": 30,
        "id": "98f3be1d-cc4c-41fa-9863-3e386e88e305",
        "outputId": "242be082-4475-462b-eff0-e460e0b4c09a"
      },
      "outputs": [
        {
          "data": {
            "text/plain": [
              "'Thought: Now I need to find the average weight of a Scottish Terrier.\\nAction: average_dog_weight: Scottish Terrier\\nPAUSE'"
            ]
          },
          "execution_count": 18,
          "metadata": {},
          "output_type": "execute_result"
        }
      ],
      "source": [
        "abot(next_prompt)"
      ]
    },
    {
      "cell_type": "code",
      "execution_count": null,
      "id": "0ad8a6cc-65d4-4ce7-87aa-4e67d7c23d7b",
      "metadata": {
        "height": 47,
        "id": "0ad8a6cc-65d4-4ce7-87aa-4e67d7c23d7b",
        "outputId": "48e01131-8fe5-4d06-a586-a6dfbcf1906f"
      },
      "outputs": [
        {
          "name": "stdout",
          "output_type": "stream",
          "text": [
            "Observation: Scottish Terriers average 20 lbs\n"
          ]
        }
      ],
      "source": [
        "next_prompt = \"Observation: {}\".format(average_dog_weight(\"Scottish Terrier\"))\n",
        "print(next_prompt)"
      ]
    },
    {
      "cell_type": "code",
      "execution_count": null,
      "id": "592b5e62-a203-433c-92a0-3783f490cde1",
      "metadata": {
        "height": 30,
        "id": "592b5e62-a203-433c-92a0-3783f490cde1",
        "outputId": "cbd14d29-d268-4403-9aaa-3dedd2946a55"
      },
      "outputs": [
        {
          "data": {
            "text/plain": [
              "'Thought: I now have the average weights of both dogs. I will sum these weights to get the combined weight.\\nAction: calculate: 37 + 20\\nPAUSE'"
            ]
          },
          "execution_count": 20,
          "metadata": {},
          "output_type": "execute_result"
        }
      ],
      "source": [
        "abot(next_prompt)"
      ]
    },
    {
      "cell_type": "code",
      "execution_count": null,
      "id": "14fa923c-7e4f-42d1-965f-0f8ccd50fbd7",
      "metadata": {
        "height": 47,
        "id": "14fa923c-7e4f-42d1-965f-0f8ccd50fbd7",
        "outputId": "902d7df0-da87-447d-8858-89fe7fa34bdd"
      },
      "outputs": [
        {
          "name": "stdout",
          "output_type": "stream",
          "text": [
            "Observation: 57\n"
          ]
        }
      ],
      "source": [
        "next_prompt = \"Observation: {}\".format(eval(\"37 + 20\"))\n",
        "print(next_prompt)"
      ]
    },
    {
      "cell_type": "code",
      "execution_count": null,
      "id": "570c6245-2837-4ac5-983b-95f61f3ac10d",
      "metadata": {
        "height": 30,
        "id": "570c6245-2837-4ac5-983b-95f61f3ac10d",
        "outputId": "eb84fb1f-7830-478d-ae71-f0c82474e07e"
      },
      "outputs": [
        {
          "data": {
            "text/plain": [
              "'Answer: The combined weight of a Border Collie and a Scottish Terrier is 57 lbs.'"
            ]
          },
          "execution_count": 22,
          "metadata": {},
          "output_type": "execute_result"
        }
      ],
      "source": [
        "abot(next_prompt)"
      ]
    },
    {
      "cell_type": "markdown",
      "id": "6b46f2ac-f717-4ab9-b548-f34b74071d76",
      "metadata": {
        "id": "6b46f2ac-f717-4ab9-b548-f34b74071d76"
      },
      "source": [
        "### Add loop"
      ]
    },
    {
      "cell_type": "code",
      "execution_count": null,
      "id": "6b910915-b087-4d35-afff-0ec30a5852f1",
      "metadata": {
        "height": 30,
        "id": "6b910915-b087-4d35-afff-0ec30a5852f1"
      },
      "outputs": [],
      "source": [
        "action_re = re.compile('^Action: (\\w+): (.*)$')   # python regular expression to selection action\n",
        "# 它匹配以 “Action:” 开头的字符串，并提取行动名称和输入参数"
      ]
    },
    {
      "cell_type": "code",
      "execution_count": null,
      "id": "c4feb6cc-5129-4a99-bb45-851bc07b5709",
      "metadata": {
        "height": 421,
        "id": "c4feb6cc-5129-4a99-bb45-851bc07b5709"
      },
      "outputs": [],
      "source": [
        "def query(question, max_turns=5):\n",
        "  \"\"\"\n",
        "  接收一个问题和最大交互次数（max_turns），用来控制交互的次数\n",
        "  使用 Agent 实例进行交互，并根据返回的结果确定下一步行动。通过循环追踪对话过程，每次循环处理一个行动和对应的观察结果\n",
        "\n",
        "  交互循环：\n",
        "\t•\t在每个循环中，首先调用 Agent 实例处理当前的提示（next_prompt），然后打印结果。\n",
        "\t•\t使用正则表达式从结果中查找行动指令。如果找到了行动指令，它会执行对应的已知行动。\n",
        "\t•\t如果识别的行动在 known_actions 字典中，则执行该行动并产生观察结果，更新 next_prompt 以继续交互\n",
        "  \"\"\"\n",
        "    i = 0\n",
        "    bot = Agent(prompt)\n",
        "    next_prompt = question\n",
        "    while i < max_turns:\n",
        "        i += 1\n",
        "        result = bot(next_prompt)\n",
        "        print(result)\n",
        "        actions = [\n",
        "            action_re.match(a)\n",
        "            for a in result.split('\\n')\n",
        "            if action_re.match(a)\n",
        "        ]\n",
        "        if actions:\n",
        "            # There is an action to run\n",
        "            action, action_input = actions[0].groups()\n",
        "            if action not in known_actions:\n",
        "                raise Exception(\"Unknown action: {}: {}\".format(action, action_input))\n",
        "            print(\" -- running {} {}\".format(action, action_input))\n",
        "            observation = known_actions[action](action_input)\n",
        "            print(\"Observation:\", observation)\n",
        "            next_prompt = \"Observation: {}\".format(observation)\n",
        "        else:\n",
        "            return"
      ]
    },
    {
      "cell_type": "code",
      "execution_count": null,
      "id": "e85a02b4-96cc-4b01-8792-397a774eb499",
      "metadata": {
        "height": 64,
        "id": "e85a02b4-96cc-4b01-8792-397a774eb499",
        "outputId": "20148fe3-5138-433a-8f32-60f42f403778"
      },
      "outputs": [
        {
          "name": "stdout",
          "output_type": "stream",
          "text": [
            "Thought: I need to find the average weight of both a Border Collie and a Scottish Terrier, then sum these weights to get the combined weight.\n",
            "Action: average_dog_weight: Border Collie\n",
            "PAUSE\n",
            " -- running average_dog_weight Border Collie\n",
            "Observation: a Border Collies average weight is 37 lbs\n",
            "Thought: Now I need to find the average weight of a Scottish Terrier.\n",
            "Action: average_dog_weight: Scottish Terrier\n",
            "PAUSE\n",
            " -- running average_dog_weight Scottish Terrier\n",
            "Observation: Scottish Terriers average 20 lbs\n",
            "Thought: I now have the average weights of both dogs. I will sum these weights to get the combined weight.\n",
            "Action: calculate: 37 + 20\n",
            "PAUSE\n",
            " -- running calculate 37 + 20\n",
            "Observation: 57\n",
            "Answer: The combined weight of a Border Collie and a Scottish Terrier is 57 lbs.\n"
          ]
        }
      ],
      "source": [
        "question = \"\"\"I have 2 dogs, a border collie and a scottish terrier. \\\n",
        "What is their combined weight\"\"\"\n",
        "query(question)"
      ]
    },
    {
      "cell_type": "markdown",
      "source": [
        "### 步骤 1: 初始化和问题输入\n",
        "- **Prompt 的内容** 定义了 `Agent` 类实例如何响应问题。这个初始化阶段包括加载和设置 `Agent` 的环境，如加载聊天模型和理解任务的指导提示。\n",
        "- **用户问题的输入**：用户提出的问题被视为触发整个聊天处理流程的起点。例如，用户问：“我有两只狗，边境牧羊犬和苏格兰梗，它们的总体重是多少？”\n",
        "\n",
        "### 步骤 2: 理解问题并思考回答策略\n",
        "- **Thought**：`Agent` 首先要理解问题的含义，并决定如何回答。它会输出一个以 \"Thought:\" 开头的描述，表达对问题的理解和打算采取的初步策略。例如，它可能认为需要分别获取两种狗的平均体重。\n",
        "\n",
        "### 步骤 3: 执行行动和暂停\n",
        "- **Action**：基于前一步的思考，`Agent` 决定执行一个或多个行动来获取所需信息。这些行动对应于预定义的函数，如 `calculate` 和 `average_dog_weight`。\n",
        "- **PAUSE**：行动执行后，脚本将返回一个 \"PAUSE\"，这是一个等待状态，表示已完成当前行动，等待进一步处理或下一个行动。\n",
        "\n",
        "### 步骤 4: 观察结果\n",
        "- **Observation**：行动执行后的结果被视为观察，这些结果是对之前行动的直接回应。`Agent` 将这些观察结果用于进一步的处理或作为最终答案的一部分。\n",
        "\n",
        "### 步骤 5: 分析观察并决定是否需要额外行动\n",
        "- 如果单次行动未能解决问题，`Agent` 可能需要根据当前的观察结果再次执行其他行动。这可能涉及进一步的计算或信息获取。\n",
        "\n",
        "### 步骤 6: 输出答案\n",
        "- **Answer**：一旦所有必要的信息被收集和计算，例如两种狗的体重总和，`Agent` 将格式化并输出一个答案，通常以 \"Answer:\" 开头，明确回答用户的初始问题。\n",
        "\n",
        "### 步骤 7: 循环和交互管理\n",
        "- 交互过程可能需要通过多个 \"Thought-Action-PAUSE-Observation\" 循环来处理，每个循环都是围绕用户问题的解决策略构建的。在给定的代码中，这通过在 `query` 函数中的 `while` 循环实现，该循环控制整个交互过程。\n",
        "\n",
        "通过这种结构化的多步骤处理流程，聊天机器人可以有效地处理复杂的查询，从而提供连贯、逻辑性强的用户交互体验。这种方法不仅保证了问题能够得到准确的解答，也增强了系统的可扩展性和维护性。"
      ],
      "metadata": {
        "id": "jOHikI8Qy9E8"
      },
      "id": "jOHikI8Qy9E8"
    },
    {
      "cell_type": "code",
      "execution_count": null,
      "id": "ae8b86a6-5e20-4252-b1d8-009b8318345a",
      "metadata": {
        "height": 30,
        "id": "ae8b86a6-5e20-4252-b1d8-009b8318345a"
      },
      "outputs": [],
      "source": []
    },
    {
      "cell_type": "code",
      "execution_count": null,
      "id": "af925917-b746-48c9-ac74-62fefbe5246c",
      "metadata": {
        "height": 30,
        "id": "af925917-b746-48c9-ac74-62fefbe5246c"
      },
      "outputs": [],
      "source": []
    }
  ],
  "metadata": {
    "kernelspec": {
      "display_name": "Python 3 (ipykernel)",
      "language": "python",
      "name": "python3"
    },
    "language_info": {
      "codemirror_mode": {
        "name": "ipython",
        "version": 3
      },
      "file_extension": ".py",
      "mimetype": "text/x-python",
      "name": "python",
      "nbconvert_exporter": "python",
      "pygments_lexer": "ipython3",
      "version": "3.11.9"
    },
    "colab": {
      "provenance": [],
      "include_colab_link": true
    }
  },
  "nbformat": 4,
  "nbformat_minor": 5
}